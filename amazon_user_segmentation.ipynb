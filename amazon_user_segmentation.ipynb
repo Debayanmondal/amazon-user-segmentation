{
  "nbformat": 4,
  "nbformat_minor": 0,
  "metadata": {
    "colab": {
      "provenance": [],
      "toc_visible": true,
      "authorship_tag": "ABX9TyP77WP+0cykaaNLQhXjS2XB",
      "include_colab_link": true
    },
    "kernelspec": {
      "name": "python3",
      "display_name": "Python 3"
    },
    "language_info": {
      "name": "python"
    }
  },
  "cells": [
    {
      "cell_type": "markdown",
      "metadata": {
        "id": "view-in-github",
        "colab_type": "text"
      },
      "source": [
        "<a href=\"https://colab.research.google.com/github/Debayanmondal/amazon-user-segmentation/blob/main/amazon_user_segmentation.ipynb\" target=\"_parent\"><img src=\"https://colab.research.google.com/assets/colab-badge.svg\" alt=\"Open In Colab\"/></a>"
      ]
    },
    {
      "cell_type": "markdown",
      "source": [
        "importing dataset and libraries"
      ],
      "metadata": {
        "id": "Brl_dBXb-5E7"
      }
    },
    {
      "cell_type": "code",
      "source": [
        "import numpy as np\n",
        "import matplotlib.pyplot as plt\n",
        "import pandas as pd\n",
        "\n",
        "dataset = pd.read_csv('Amazon.com Clusturing Model.csv')\n",
        "X = dataset.iloc[:, [2, 4]].values\n",
        "\n",
        "print(X)"
      ],
      "metadata": {
        "id": "J-yn6Wg2HPxv"
      },
      "execution_count": null,
      "outputs": []
    },
    {
      "cell_type": "markdown",
      "source": [
        "optimal number of clusters via elbow method"
      ],
      "metadata": {
        "id": "ljmx2i8HETIy"
      }
    },
    {
      "cell_type": "code",
      "source": [
        "from sklearn.cluster import KMeans\n",
        "wcss = []\n",
        "\n",
        "for i in range(1,11):\n",
        "  kmeans = KMeans(n_clusters= i, init= 'k-means++', random_state = 21)\n",
        "  kmeans.fit(X)\n",
        "  wcss.append(kmeans.inertia_)\n",
        "\n",
        "plt.plot(range(1,11), wcss)\n",
        "plt.title('WCSS via Elbow method')\n",
        "plt.xlabel('Number of clusters')\n",
        "plt.ylabel('WCSS Value')\n",
        "\n",
        "plt.show()"
      ],
      "metadata": {
        "id": "4pDh7aVPEUfs"
      },
      "execution_count": null,
      "outputs": []
    },
    {
      "cell_type": "markdown",
      "source": [
        "k means model training on training set"
      ],
      "metadata": {
        "id": "OWq9ysjED1-N"
      }
    },
    {
      "cell_type": "code",
      "source": [
        "kmeans = KMeans(n_clusters = 4, init = 'k-means++', random_state = 42)\n",
        "y_means = kmeans.fit_predict(X)\n"
      ],
      "metadata": {
        "id": "jpVmzx6wD34M"
      },
      "execution_count": null,
      "outputs": []
    },
    {
      "cell_type": "markdown",
      "source": [
        "visualizing clusters"
      ],
      "metadata": {
        "id": "7nMWMOCaEAfv"
      }
    },
    {
      "cell_type": "code",
      "source": [
        "plt.scatter(X[y_means == 0, 0], X[y_means == 0, 1], s = 100, c = 'magenta', label = 'Cluster 1')\n",
        "plt.scatter(X[y_means == 1, 0], X[y_means == 1, 1], s = 100, c = 'blue', label = 'Cluster 2')\n",
        "plt.scatter(X[y_means == 2, 0], X[y_means == 2, 1], s = 100, c = 'red', label = 'Cluster 3')\n",
        "plt.scatter(X[y_means == 3, 0], X[y_means == 3, 1], s = 100, c = 'cyan', label = 'Cluster 4')\n",
        "plt.scatter(kmeans.cluster_centers_[:, 0], kmeans.cluster_centers_[:, 1], s = 300, c = 'black', label = 'Centroids')\n",
        "plt.title('Cluster of Amazon users')\n",
        "plt.xlabel('Age')\n",
        "plt.ylabel('Purchase Rating')\n",
        "plt.legend()\n",
        "plt.show()"
      ],
      "metadata": {
        "id": "uhMFZkTLEBAT"
      },
      "execution_count": null,
      "outputs": []
    }
  ]
}